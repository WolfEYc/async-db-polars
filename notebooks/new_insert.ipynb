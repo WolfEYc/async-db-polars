{
 "cells": [
  {
   "cell_type": "code",
   "execution_count": 1,
   "metadata": {},
   "outputs": [
    {
     "name": "stdout",
     "output_type": "stream",
     "text": [
      "shape: (10, 3)\n",
      "┌──────────┬───────────┬──────────────┐\n",
      "│ id       ┆ name      ┆ price        │\n",
      "│ ---      ┆ ---       ┆ ---          │\n",
      "│ i64      ┆ str       ┆ decimal[*,2] │\n",
      "╞══════════╪═══════════╪══════════════╡\n",
      "│ 1965488  ┆ onion     ┆ 2.99         │\n",
      "│ 1870644  ┆ bbq       ┆ 6.99         │\n",
      "│ 69420    ┆ condoms   ┆ 69.42        │\n",
      "│ 696969   ┆ weed      ┆ 4.20         │\n",
      "│ 6334     ┆ beans     ┆ 69.99        │\n",
      "│ 34893    ┆ chalk     ┆ 8.99         │\n",
      "│ 22334    ┆ poop      ┆ 100.99       │\n",
      "│ 348374   ┆ yogurt    ┆ 3.99         │\n",
      "│ 98333829 ┆ chocolate ┆ 4.99         │\n",
      "│ 83473    ┆ pumpkin   ┆ 12.99        │\n",
      "└──────────┴───────────┴──────────────┘\n"
     ]
    }
   ],
   "source": [
    "from examples.client import PG\n",
    "\n",
    "res = await PG.fetch(\"SELECT * FROM item\")\n",
    "print(res)"
   ]
  },
  {
   "cell_type": "code",
   "execution_count": 2,
   "metadata": {},
   "outputs": [
    {
     "name": "stdout",
     "output_type": "stream",
     "text": [
      "shape: (3, 1)\n",
      "┌────────┐\n",
      "│ id     │\n",
      "│ ---    │\n",
      "│ i64    │\n",
      "╞════════╡\n",
      "│ 394789 │\n",
      "│ 3483   │\n",
      "│ 39     │\n",
      "└────────┘\n"
     ]
    }
   ],
   "source": [
    "import polars as pl\n",
    "\n",
    "# items = pl.read_csv(\"../db/csvs/item.csv\")\n",
    "items_to_insert = pl.DataFrame(\n",
    "    {\n",
    "        \"id\": [394789, 3483, 39],\n",
    "        \"name\": [\"beanie\", \"foo\", \"bar\"],\n",
    "        \"price\": [12.66, 10.0, 20.0],\n",
    "    }\n",
    ")\n",
    "\n",
    "res = await PG.insert(items_to_insert, \"item\", return_cols={\"id\"})\n",
    "print(res)"
   ]
  },
  {
   "cell_type": "code",
   "execution_count": 3,
   "metadata": {},
   "outputs": [
    {
     "name": "stdout",
     "output_type": "stream",
     "text": [
      "None\n"
     ]
    }
   ],
   "source": [
    "res = await PG.insert(items_to_insert, \"item\", pkey_cols={\"id\"}, return_cols={\"id\"})\n",
    "print(res)"
   ]
  },
  {
   "cell_type": "code",
   "execution_count": 4,
   "metadata": {},
   "outputs": [
    {
     "name": "stdout",
     "output_type": "stream",
     "text": [
      "shape: (3, 1)\n",
      "┌────────┐\n",
      "│ id     │\n",
      "│ ---    │\n",
      "│ i64    │\n",
      "╞════════╡\n",
      "│ 394789 │\n",
      "│ 3483   │\n",
      "│ 39     │\n",
      "└────────┘\n"
     ]
    }
   ],
   "source": [
    "res = await PG.fetch(\n",
    "    \"DELETE FROM item WHERE id = ANY(:ids) RETURNING id\", ids=[394789, 3483, 39]\n",
    ")\n",
    "print(res)"
   ]
  },
  {
   "cell_type": "code",
   "execution_count": 5,
   "metadata": {},
   "outputs": [
    {
     "name": "stdout",
     "output_type": "stream",
     "text": [
      "shape: (2, 3)\n",
      "┌────────┬─────────┬──────────────┐\n",
      "│ id     ┆ name    ┆ price        │\n",
      "│ ---    ┆ ---     ┆ ---          │\n",
      "│ i64    ┆ str     ┆ decimal[*,2] │\n",
      "╞════════╪═════════╪══════════════╡\n",
      "│ 348374 ┆ yogurt  ┆ 3.99         │\n",
      "│ 83473  ┆ pumpkin ┆ 12.99        │\n",
      "└────────┴─────────┴──────────────┘\n"
     ]
    }
   ],
   "source": [
    "res = await PG.fetch(\n",
    "    \"SELECT * FROM item WHERE id = ANY(:ids) ORDER BY price LIMIT 10\",\n",
    "    ids=[83473, 348374],\n",
    ")\n",
    "print(res)"
   ]
  },
  {
   "cell_type": "code",
   "execution_count": 6,
   "metadata": {},
   "outputs": [
    {
     "data": {
      "text/html": [
       "<div><style>\n",
       ".dataframe > thead > tr,\n",
       ".dataframe > tbody > tr {\n",
       "  text-align: right;\n",
       "  white-space: pre-wrap;\n",
       "}\n",
       "</style>\n",
       "<small>shape: (5, 3)</small><table border=\"1\" class=\"dataframe\"><thead><tr><th>id</th><th>name</th><th>price</th></tr><tr><td>i64</td><td>str</td><td>decimal[*,2]</td></tr></thead><tbody><tr><td>1965488</td><td>&quot;onion&quot;</td><td>2.99</td></tr><tr><td>348374</td><td>&quot;yogurt&quot;</td><td>3.99</td></tr><tr><td>1870644</td><td>&quot;bbq&quot;</td><td>6.99</td></tr><tr><td>83473</td><td>&quot;pumpkin&quot;</td><td>12.99</td></tr><tr><td>6334</td><td>&quot;beans&quot;</td><td>69.99</td></tr></tbody></table></div>"
      ],
      "text/plain": [
       "shape: (5, 3)\n",
       "┌─────────┬─────────┬──────────────┐\n",
       "│ id      ┆ name    ┆ price        │\n",
       "│ ---     ┆ ---     ┆ ---          │\n",
       "│ i64     ┆ str     ┆ decimal[*,2] │\n",
       "╞═════════╪═════════╪══════════════╡\n",
       "│ 1965488 ┆ onion   ┆ 2.99         │\n",
       "│ 348374  ┆ yogurt  ┆ 3.99         │\n",
       "│ 1870644 ┆ bbq     ┆ 6.99         │\n",
       "│ 83473   ┆ pumpkin ┆ 12.99        │\n",
       "│ 6334    ┆ beans   ┆ 69.99        │\n",
       "└─────────┴─────────┴──────────────┘"
      ]
     },
     "execution_count": 6,
     "metadata": {},
     "output_type": "execute_result"
    }
   ],
   "source": [
    "ids_series = pl.Series(\"id\", [83473, 348374])\n",
    "names_series = pl.Series(\"name\", [\"onion\", \"bbq\", \"beans\"])\n",
    "attr_dict = {\"ids\": ids_series, \"names\": names_series}\n",
    "\n",
    "\n",
    "query = \"\"\"--sql\n",
    "    SELECT * \n",
    "    FROM item \n",
    "    WHERE \n",
    "        id = ANY(:ids) OR\n",
    "        name = ANY(:names) \n",
    "    ORDER BY price \n",
    "    LIMIT 10\n",
    "    \"\"\"\n",
    "\n",
    "await PG.fetch(\n",
    "    query,\n",
    "    **attr_dict,\n",
    ")"
   ]
  }
 ],
 "metadata": {
  "kernelspec": {
   "display_name": "sandbox-iEFdomZc-py3.12",
   "language": "python",
   "name": "python3"
  },
  "language_info": {
   "codemirror_mode": {
    "name": "ipython",
    "version": 3
   },
   "file_extension": ".py",
   "mimetype": "text/x-python",
   "name": "python",
   "nbconvert_exporter": "python",
   "pygments_lexer": "ipython3",
   "version": "3.12.3"
  }
 },
 "nbformat": 4,
 "nbformat_minor": 2
}
